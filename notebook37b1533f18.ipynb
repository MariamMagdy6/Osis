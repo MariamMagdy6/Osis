{
 "cells": [
  {
   "cell_type": "code",
   "execution_count": 1,
   "id": "0dfc9a04",
   "metadata": {
    "_cell_guid": "b1076dfc-b9ad-4769-8c92-a6c4dae69d19",
    "_uuid": "8f2839f25d086af736a60e9eeb907d3b93b6e0e5",
    "execution": {
     "iopub.execute_input": "2024-04-05T18:38:32.120694Z",
     "iopub.status.busy": "2024-04-05T18:38:32.120217Z",
     "iopub.status.idle": "2024-04-05T18:38:32.139549Z",
     "shell.execute_reply": "2024-04-05T18:38:32.138578Z"
    },
    "papermill": {
     "duration": 0.028969,
     "end_time": "2024-04-05T18:38:32.141843",
     "exception": false,
     "start_time": "2024-04-05T18:38:32.112874",
     "status": "completed"
    },
    "tags": []
   },
   "outputs": [
    {
     "name": "stdout",
     "output_type": "stream",
     "text": [
      "/kaggle/input/iriscsv/Iris.csv\n"
     ]
    }
   ],
   "source": [
    "import os\n",
    "for dirname, _, filenames in os.walk('/kaggle/input'):\n",
    "    for filename in filenames:\n",
    "        print(os.path.join(dirname, filename))"
   ]
  },
  {
   "cell_type": "code",
   "execution_count": 2,
   "id": "279be5f0",
   "metadata": {
    "execution": {
     "iopub.execute_input": "2024-04-05T18:38:32.152135Z",
     "iopub.status.busy": "2024-04-05T18:38:32.151288Z",
     "iopub.status.idle": "2024-04-05T18:38:34.612419Z",
     "shell.execute_reply": "2024-04-05T18:38:34.611439Z"
    },
    "papermill": {
     "duration": 2.469022,
     "end_time": "2024-04-05T18:38:34.615207",
     "exception": false,
     "start_time": "2024-04-05T18:38:32.146185",
     "status": "completed"
    },
    "tags": []
   },
   "outputs": [],
   "source": [
    "import pandas as pd\n",
    "import numpy as np\n",
    "from sklearn.model_selection import train_test_split\n",
    "from sklearn.preprocessing import StandardScaler\n",
    "from sklearn.neighbors import KNeighborsClassifier\n",
    "from sklearn.metrics import accuracy_score, classification_report"
   ]
  },
  {
   "cell_type": "code",
   "execution_count": 3,
   "id": "8076d390",
   "metadata": {
    "execution": {
     "iopub.execute_input": "2024-04-05T18:38:34.625457Z",
     "iopub.status.busy": "2024-04-05T18:38:34.624923Z",
     "iopub.status.idle": "2024-04-05T18:38:34.660419Z",
     "shell.execute_reply": "2024-04-05T18:38:34.659317Z"
    },
    "papermill": {
     "duration": 0.043841,
     "end_time": "2024-04-05T18:38:34.663259",
     "exception": false,
     "start_time": "2024-04-05T18:38:34.619418",
     "status": "completed"
    },
    "tags": []
   },
   "outputs": [
    {
     "name": "stdout",
     "output_type": "stream",
     "text": [
      "   Id  SepalLengthCm  SepalWidthCm  PetalLengthCm  PetalWidthCm      Species\n",
      "0   1            5.1           3.5            1.4           0.2  Iris-setosa\n",
      "1   2            4.9           3.0            1.4           0.2  Iris-setosa\n",
      "2   3            4.7           3.2            1.3           0.2  Iris-setosa\n",
      "3   4            4.6           3.1            1.5           0.2  Iris-setosa\n",
      "4   5            5.0           3.6            1.4           0.2  Iris-setosa\n"
     ]
    }
   ],
   "source": [
    "import pandas as pd\n",
    "file_path = '/kaggle/input/iriscsv/Iris.csv'\n",
    "iris_data = pd.read_csv(file_path)\n",
    "print(iris_data.head())"
   ]
  },
  {
   "cell_type": "code",
   "execution_count": 4,
   "id": "ef934f84",
   "metadata": {
    "execution": {
     "iopub.execute_input": "2024-04-05T18:38:34.673046Z",
     "iopub.status.busy": "2024-04-05T18:38:34.672638Z",
     "iopub.status.idle": "2024-04-05T18:38:34.684464Z",
     "shell.execute_reply": "2024-04-05T18:38:34.683201Z"
    },
    "papermill": {
     "duration": 0.019352,
     "end_time": "2024-04-05T18:38:34.686809",
     "exception": false,
     "start_time": "2024-04-05T18:38:34.667457",
     "status": "completed"
    },
    "tags": []
   },
   "outputs": [],
   "source": [
    "X = iris_data.drop(columns=['Species'])  \n",
    "y = iris_data['Species']  "
   ]
  },
  {
   "cell_type": "code",
   "execution_count": 5,
   "id": "4cedeaa2",
   "metadata": {
    "execution": {
     "iopub.execute_input": "2024-04-05T18:38:34.697313Z",
     "iopub.status.busy": "2024-04-05T18:38:34.696595Z",
     "iopub.status.idle": "2024-04-05T18:38:34.705304Z",
     "shell.execute_reply": "2024-04-05T18:38:34.704375Z"
    },
    "papermill": {
     "duration": 0.016538,
     "end_time": "2024-04-05T18:38:34.707762",
     "exception": false,
     "start_time": "2024-04-05T18:38:34.691224",
     "status": "completed"
    },
    "tags": []
   },
   "outputs": [],
   "source": [
    "X_train, X_test, y_train, y_test = train_test_split(X, y, test_size=0.2, random_state=42)\n"
   ]
  },
  {
   "cell_type": "code",
   "execution_count": 6,
   "id": "a0a46bb8",
   "metadata": {
    "execution": {
     "iopub.execute_input": "2024-04-05T18:38:34.717844Z",
     "iopub.status.busy": "2024-04-05T18:38:34.717227Z",
     "iopub.status.idle": "2024-04-05T18:38:34.728945Z",
     "shell.execute_reply": "2024-04-05T18:38:34.727665Z"
    },
    "papermill": {
     "duration": 0.019799,
     "end_time": "2024-04-05T18:38:34.731728",
     "exception": false,
     "start_time": "2024-04-05T18:38:34.711929",
     "status": "completed"
    },
    "tags": []
   },
   "outputs": [],
   "source": [
    "scaler = StandardScaler()\n",
    "X_train_scaled = scaler.fit_transform(X_train)\n",
    "X_test_scaled = scaler.transform(X_test)"
   ]
  },
  {
   "cell_type": "code",
   "execution_count": 7,
   "id": "91f0d2b0",
   "metadata": {
    "execution": {
     "iopub.execute_input": "2024-04-05T18:38:34.741986Z",
     "iopub.status.busy": "2024-04-05T18:38:34.741572Z",
     "iopub.status.idle": "2024-04-05T18:38:34.755763Z",
     "shell.execute_reply": "2024-04-05T18:38:34.754611Z"
    },
    "papermill": {
     "duration": 0.022173,
     "end_time": "2024-04-05T18:38:34.758255",
     "exception": false,
     "start_time": "2024-04-05T18:38:34.736082",
     "status": "completed"
    },
    "tags": []
   },
   "outputs": [
    {
     "data": {
      "text/html": [
       "<style>#sk-container-id-1 {color: black;background-color: white;}#sk-container-id-1 pre{padding: 0;}#sk-container-id-1 div.sk-toggleable {background-color: white;}#sk-container-id-1 label.sk-toggleable__label {cursor: pointer;display: block;width: 100%;margin-bottom: 0;padding: 0.3em;box-sizing: border-box;text-align: center;}#sk-container-id-1 label.sk-toggleable__label-arrow:before {content: \"▸\";float: left;margin-right: 0.25em;color: #696969;}#sk-container-id-1 label.sk-toggleable__label-arrow:hover:before {color: black;}#sk-container-id-1 div.sk-estimator:hover label.sk-toggleable__label-arrow:before {color: black;}#sk-container-id-1 div.sk-toggleable__content {max-height: 0;max-width: 0;overflow: hidden;text-align: left;background-color: #f0f8ff;}#sk-container-id-1 div.sk-toggleable__content pre {margin: 0.2em;color: black;border-radius: 0.25em;background-color: #f0f8ff;}#sk-container-id-1 input.sk-toggleable__control:checked~div.sk-toggleable__content {max-height: 200px;max-width: 100%;overflow: auto;}#sk-container-id-1 input.sk-toggleable__control:checked~label.sk-toggleable__label-arrow:before {content: \"▾\";}#sk-container-id-1 div.sk-estimator input.sk-toggleable__control:checked~label.sk-toggleable__label {background-color: #d4ebff;}#sk-container-id-1 div.sk-label input.sk-toggleable__control:checked~label.sk-toggleable__label {background-color: #d4ebff;}#sk-container-id-1 input.sk-hidden--visually {border: 0;clip: rect(1px 1px 1px 1px);clip: rect(1px, 1px, 1px, 1px);height: 1px;margin: -1px;overflow: hidden;padding: 0;position: absolute;width: 1px;}#sk-container-id-1 div.sk-estimator {font-family: monospace;background-color: #f0f8ff;border: 1px dotted black;border-radius: 0.25em;box-sizing: border-box;margin-bottom: 0.5em;}#sk-container-id-1 div.sk-estimator:hover {background-color: #d4ebff;}#sk-container-id-1 div.sk-parallel-item::after {content: \"\";width: 100%;border-bottom: 1px solid gray;flex-grow: 1;}#sk-container-id-1 div.sk-label:hover label.sk-toggleable__label {background-color: #d4ebff;}#sk-container-id-1 div.sk-serial::before {content: \"\";position: absolute;border-left: 1px solid gray;box-sizing: border-box;top: 0;bottom: 0;left: 50%;z-index: 0;}#sk-container-id-1 div.sk-serial {display: flex;flex-direction: column;align-items: center;background-color: white;padding-right: 0.2em;padding-left: 0.2em;position: relative;}#sk-container-id-1 div.sk-item {position: relative;z-index: 1;}#sk-container-id-1 div.sk-parallel {display: flex;align-items: stretch;justify-content: center;background-color: white;position: relative;}#sk-container-id-1 div.sk-item::before, #sk-container-id-1 div.sk-parallel-item::before {content: \"\";position: absolute;border-left: 1px solid gray;box-sizing: border-box;top: 0;bottom: 0;left: 50%;z-index: -1;}#sk-container-id-1 div.sk-parallel-item {display: flex;flex-direction: column;z-index: 1;position: relative;background-color: white;}#sk-container-id-1 div.sk-parallel-item:first-child::after {align-self: flex-end;width: 50%;}#sk-container-id-1 div.sk-parallel-item:last-child::after {align-self: flex-start;width: 50%;}#sk-container-id-1 div.sk-parallel-item:only-child::after {width: 0;}#sk-container-id-1 div.sk-dashed-wrapped {border: 1px dashed gray;margin: 0 0.4em 0.5em 0.4em;box-sizing: border-box;padding-bottom: 0.4em;background-color: white;}#sk-container-id-1 div.sk-label label {font-family: monospace;font-weight: bold;display: inline-block;line-height: 1.2em;}#sk-container-id-1 div.sk-label-container {text-align: center;}#sk-container-id-1 div.sk-container {/* jupyter's `normalize.less` sets `[hidden] { display: none; }` but bootstrap.min.css set `[hidden] { display: none !important; }` so we also need the `!important` here to be able to override the default hidden behavior on the sphinx rendered scikit-learn.org. See: https://github.com/scikit-learn/scikit-learn/issues/21755 */display: inline-block !important;position: relative;}#sk-container-id-1 div.sk-text-repr-fallback {display: none;}</style><div id=\"sk-container-id-1\" class=\"sk-top-container\"><div class=\"sk-text-repr-fallback\"><pre>KNeighborsClassifier(n_neighbors=3)</pre><b>In a Jupyter environment, please rerun this cell to show the HTML representation or trust the notebook. <br />On GitHub, the HTML representation is unable to render, please try loading this page with nbviewer.org.</b></div><div class=\"sk-container\" hidden><div class=\"sk-item\"><div class=\"sk-estimator sk-toggleable\"><input class=\"sk-toggleable__control sk-hidden--visually\" id=\"sk-estimator-id-1\" type=\"checkbox\" checked><label for=\"sk-estimator-id-1\" class=\"sk-toggleable__label sk-toggleable__label-arrow\">KNeighborsClassifier</label><div class=\"sk-toggleable__content\"><pre>KNeighborsClassifier(n_neighbors=3)</pre></div></div></div></div></div>"
      ],
      "text/plain": [
       "KNeighborsClassifier(n_neighbors=3)"
      ]
     },
     "execution_count": 7,
     "metadata": {},
     "output_type": "execute_result"
    }
   ],
   "source": [
    "knn = KNeighborsClassifier(n_neighbors=3)\n",
    "knn.fit(X_train_scaled, y_train)"
   ]
  },
  {
   "cell_type": "code",
   "execution_count": 8,
   "id": "f0f8c6a7",
   "metadata": {
    "execution": {
     "iopub.execute_input": "2024-04-05T18:38:34.769097Z",
     "iopub.status.busy": "2024-04-05T18:38:34.768721Z",
     "iopub.status.idle": "2024-04-05T18:38:34.779544Z",
     "shell.execute_reply": "2024-04-05T18:38:34.778603Z"
    },
    "papermill": {
     "duration": 0.018844,
     "end_time": "2024-04-05T18:38:34.781758",
     "exception": false,
     "start_time": "2024-04-05T18:38:34.762914",
     "status": "completed"
    },
    "tags": []
   },
   "outputs": [],
   "source": [
    "y_pred = knn.predict(X_test_scaled)"
   ]
  },
  {
   "cell_type": "code",
   "execution_count": 9,
   "id": "066d77f0",
   "metadata": {
    "execution": {
     "iopub.execute_input": "2024-04-05T18:38:34.792585Z",
     "iopub.status.busy": "2024-04-05T18:38:34.791703Z",
     "iopub.status.idle": "2024-04-05T18:38:34.809135Z",
     "shell.execute_reply": "2024-04-05T18:38:34.807427Z"
    },
    "papermill": {
     "duration": 0.025492,
     "end_time": "2024-04-05T18:38:34.811846",
     "exception": false,
     "start_time": "2024-04-05T18:38:34.786354",
     "status": "completed"
    },
    "tags": []
   },
   "outputs": [
    {
     "name": "stdout",
     "output_type": "stream",
     "text": [
      "Accuracy: 1.0\n",
      "Classification Report:\n",
      "                 precision    recall  f1-score   support\n",
      "\n",
      "    Iris-setosa       1.00      1.00      1.00        10\n",
      "Iris-versicolor       1.00      1.00      1.00         9\n",
      " Iris-virginica       1.00      1.00      1.00        11\n",
      "\n",
      "       accuracy                           1.00        30\n",
      "      macro avg       1.00      1.00      1.00        30\n",
      "   weighted avg       1.00      1.00      1.00        30\n",
      "\n"
     ]
    }
   ],
   "source": [
    "accuracy = accuracy_score(y_test, y_pred)\n",
    "print(\"Accuracy:\", accuracy)\n",
    "\n",
    "print(\"Classification Report:\")\n",
    "print(classification_report(y_test, y_pred))"
   ]
  }
 ],
 "metadata": {
  "kaggle": {
   "accelerator": "none",
   "dataSources": [
    {
     "datasetId": 4247,
     "sourceId": 6570,
     "sourceType": "datasetVersion"
    }
   ],
   "dockerImageVersionId": 30673,
   "isGpuEnabled": false,
   "isInternetEnabled": true,
   "language": "python",
   "sourceType": "notebook"
  },
  "kernelspec": {
   "display_name": "Python 3",
   "language": "python",
   "name": "python3"
  },
  "language_info": {
   "codemirror_mode": {
    "name": "ipython",
    "version": 3
   },
   "file_extension": ".py",
   "mimetype": "text/x-python",
   "name": "python",
   "nbconvert_exporter": "python",
   "pygments_lexer": "ipython3",
   "version": "3.10.13"
  },
  "papermill": {
   "default_parameters": {},
   "duration": 6.233415,
   "end_time": "2024-04-05T18:38:35.336914",
   "environment_variables": {},
   "exception": null,
   "input_path": "__notebook__.ipynb",
   "output_path": "__notebook__.ipynb",
   "parameters": {},
   "start_time": "2024-04-05T18:38:29.103499",
   "version": "2.5.0"
  }
 },
 "nbformat": 4,
 "nbformat_minor": 5
}
